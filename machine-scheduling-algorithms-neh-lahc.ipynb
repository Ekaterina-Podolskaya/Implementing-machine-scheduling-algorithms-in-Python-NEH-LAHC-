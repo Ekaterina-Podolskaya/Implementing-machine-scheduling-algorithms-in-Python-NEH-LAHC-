{
 "cells": [
  {
   "cell_type": "code",
   "execution_count": 1,
   "id": "65de8b61",
   "metadata": {
    "_cell_guid": "b1076dfc-b9ad-4769-8c92-a6c4dae69d19",
    "_uuid": "8f2839f25d086af736a60e9eeb907d3b93b6e0e5",
    "execution": {
     "iopub.execute_input": "2025-04-04T11:32:40.130490Z",
     "iopub.status.busy": "2025-04-04T11:32:40.130148Z",
     "iopub.status.idle": "2025-04-04T11:32:41.229239Z",
     "shell.execute_reply": "2025-04-04T11:32:41.227987Z"
    },
    "papermill": {
     "duration": 1.105395,
     "end_time": "2025-04-04T11:32:41.231413",
     "exception": false,
     "start_time": "2025-04-04T11:32:40.126018",
     "status": "completed"
    },
    "tags": []
   },
   "outputs": [],
   "source": [
    "# This Python 3 environment comes with many helpful analytics libraries installed\n",
    "# It is defined by the kaggle/python Docker image: https://github.com/kaggle/docker-python\n",
    "# For example, here's several helpful packages to load\n",
    "\n",
    "import numpy as np # linear algebra\n",
    "import pandas as pd # data processing, CSV file I/O (e.g. pd.read_csv)\n",
    "\n",
    "# Input data files are available in the read-only \"../input/\" directory\n",
    "# For example, running this (by clicking run or pressing Shift+Enter) will list all files under the input directory\n",
    "\n",
    "import os\n",
    "for dirname, _, filenames in os.walk('/kaggle/input'):\n",
    "    for filename in filenames:\n",
    "        print(os.path.join(dirname, filename))\n",
    "\n",
    "# You can write up to 20GB to the current directory (/kaggle/working/) that gets preserved as output when you create a version using \"Save & Run All\" \n",
    "# You can also write temporary files to /kaggle/temp/, but they won't be saved outside of the current session"
   ]
  },
  {
   "cell_type": "markdown",
   "id": "77ef126f",
   "metadata": {
    "papermill": {
     "duration": 0.002268,
     "end_time": "2025-04-04T11:32:41.236859",
     "exception": false,
     "start_time": "2025-04-04T11:32:41.234591",
     "status": "completed"
    },
    "tags": []
   },
   "source": [
    "# Generierung der Instanzen "
   ]
  },
  {
   "cell_type": "code",
   "execution_count": 2,
   "id": "af77f685",
   "metadata": {
    "execution": {
     "iopub.execute_input": "2025-04-04T11:32:41.243921Z",
     "iopub.status.busy": "2025-04-04T11:32:41.243376Z",
     "iopub.status.idle": "2025-04-04T11:32:41.264627Z",
     "shell.execute_reply": "2025-04-04T11:32:41.263656Z"
    },
    "papermill": {
     "duration": 0.027163,
     "end_time": "2025-04-04T11:32:41.266498",
     "exception": false,
     "start_time": "2025-04-04T11:32:41.239335",
     "status": "completed"
    },
    "tags": []
   },
   "outputs": [
    {
     "data": {
      "text/plain": [
       "<function TextIOWrapper.close()>"
      ]
     },
     "execution_count": 2,
     "metadata": {},
     "output_type": "execute_result"
    }
   ],
   "source": [
    "import random \n",
    "f = open(\"NEH_Instanzen_5_30.txt\",\"w\") \n",
    "Anzahl_Maschinen = 5 \n",
    "Job_Anzahl = 30 \n",
    "Instanzen = 50 \n",
    "for m in range(Instanzen): \n",
    "    for i in range(1,Job_Anzahl+1):    \n",
    "        f.write(str(i)) \n",
    "        for j in range(Anzahl_Maschinen): \n",
    "            f.write(\",\") \n",
    "            n = random.randint(5,20) \n",
    "            f.write(str(n)) \n",
    "         \n",
    "        f.write(\"\\n\") \n",
    "f.close "
   ]
  },
  {
   "cell_type": "markdown",
   "id": "a9525439",
   "metadata": {
    "papermill": {
     "duration": 0.00263,
     "end_time": "2025-04-04T11:32:41.271953",
     "exception": false,
     "start_time": "2025-04-04T11:32:41.269323",
     "status": "completed"
    },
    "tags": []
   },
   "source": [
    "# Implementierung von NEH-Heuristik "
   ]
  },
  {
   "cell_type": "code",
   "execution_count": 3,
   "id": "0514c3a8",
   "metadata": {
    "execution": {
     "iopub.execute_input": "2025-04-04T11:32:41.278793Z",
     "iopub.status.busy": "2025-04-04T11:32:41.278416Z",
     "iopub.status.idle": "2025-04-04T11:32:41.320675Z",
     "shell.execute_reply": "2025-04-04T11:32:41.319240Z"
    },
    "papermill": {
     "duration": 0.04813,
     "end_time": "2025-04-04T11:32:41.322800",
     "exception": false,
     "start_time": "2025-04-04T11:32:41.274670",
     "status": "completed"
    },
    "tags": []
   },
   "outputs": [
    {
     "name": "stdout",
     "output_type": "stream",
     "text": [
      "Beste Reihenfolge: [16, 25, 1, 21, 10, 7, 30, 23, 20, 6, 9, 8, 12, 26, 27, 19, 22, 28, 5, 17, 3, 4, 18, 15, 11, 24, 14, 29, 13, 2] Zielfunktionswert: 444 Laufzeit: 0.0232546329498291\n",
      "[[16, 6, 8, 19, 20, 17], [25, 5, 10, 9, 5, 15], [1, 7, 14, 17, 12, 6], [21, 14, 11, 6, 15, 8], [10, 9, 13, 9, 8, 18], [7, 12, 8, 15, 16, 6], [30, 10, 19, 14, 20, 7], [23, 17, 16, 5, 8, 19], [20, 14, 14, 9, 13, 15], [6, 5, 17, 15, 9, 19], [9, 18, 14, 11, 19, 8], [8, 15, 14, 12, 11, 19], [12, 14, 6, 15, 19, 20], [26, 18, 13, 9, 12, 13], [27, 9, 15, 20, 17, 13], [19, 12, 19, 8, 11, 14], [22, 20, 6, 20, 20, 17], [28, 13, 18, 17, 17, 17], [5, 16, 16, 19, 10, 20], [17, 19, 20, 5, 19, 10], [3, 19, 16, 18, 18, 16], [4, 15, 17, 15, 17, 13], [18, 16, 20, 19, 12, 7], [15, 20, 13, 8, 13, 8], [11, 14, 11, 17, 9, 7], [24, 12, 19, 9, 8, 7], [14, 16, 13, 8, 16, 7], [29, 13, 14, 9, 9, 9], [13, 18, 7, 6, 5, 9], [2, 5, 11, 13, 8, 5]]\n"
     ]
    },
    {
     "data": {
      "text/plain": [
       "<function TextIOWrapper.close()>"
      ]
     },
     "execution_count": 3,
     "metadata": {},
     "output_type": "execute_result"
    }
   ],
   "source": [
    "import time \n",
    "startzeit = time.time()  \n",
    "f = open(\"NEH_Instanzen_5_30.txt\",'r') #Öffnet die Textdatei mit generierten Instanzen. \n",
    "Anzahl_Jobs = 30 #Repräsentiert die Anzahl der Aufträge und ist vom Benutzer einzugeben. \n",
    "Anzahl_Maschinen = 5 #Repräsentiert die Anzahl der Maschinen und ist vom Benutzer einzugeben. \n",
    "  \n",
    "Auftraege = [] \n",
    "Liste_der_Bearbeitungszeiten = [] \n",
    "Sortierte_Auftragsliste = [] \n",
    "\n",
    "b = 0 \n",
    "k = 0 \n",
    "Sequenz = [] \n",
    "Lösung = [] \n",
    "Gespeicherte_Lösung = [] \n",
    "\n",
    "for j in range(Anzahl_Jobs): #Diese Schleife liest ins Programm zeilenweise die Bearbeitungszeiten der Aufträge ein. \n",
    "    Zeile = f.readline() \n",
    "    Auftrag = [] \n",
    "    Auftrag_als_string = Zeile.split(',') \n",
    "    for n in Auftrag_als_string:\n",
    "        if n.strip():  # Only process non-empty strings\n",
    "            Auftrag.append(int(n))\n",
    "\n",
    "    Auftraege.append(Auftrag) \n",
    "\n",
    "\n",
    "for i in range(len(Auftraege)):  #Diese Schleife berechnet die Bearbeitungszeit einzelner Aufträge auf allen Maschinen.\n",
    "    Auftragsbearbeitungszeit = 0  \n",
    "    for j in range(1,Anzahl_Maschinen+1):  \n",
    "        Auftragsbearbeitungszeit += Auftraege[i][j]  \n",
    "        j=j+1\n",
    "    Liste_der_Bearbeitungszeiten.append(Auftragsbearbeitungszeit) \n",
    "\n",
    " \n",
    "for a in range (len(Auftraege)): #Sortiert die Aufträge absteigend gemäß der Gesamtbearbeitungszeit. \n",
    "    l = [] \n",
    "    l.append(Auftraege[a]) \n",
    "    l.append(Liste_der_Bearbeitungszeiten[a]) \n",
    "    Sortierte_Auftragsliste.append(l) \n",
    "Sortierte_Auftragsliste.sort(key=lambda t : t[1], reverse = True)  \n",
    " \n",
    " \n",
    "for i in range(0,len(Sortierte_Auftragsliste)):  #Diese Schleife fügt den nächsten Auftrag in die aktuelle Sequenz ein. \n",
    "    \n",
    "    for pos in range(0,k+1):            #Diese Schleife ermöglicht den Wechsel der Positionen des Auftrages innerhalb aktueller Sequenz. \n",
    "        Teilsequenz = Sequenz.copy()        \n",
    "        Teilsequenz.insert(pos,Sortierte_Auftragsliste[i])           \n",
    "        Z = [0] * Anzahl_Maschinen #Erzeugt eine Liste mit einer Länge der Anzahl der Maschinen mit den Ausgangswerten gleich Null. \n",
    " \n",
    "        for b in range(len(Teilsequenz)) :   \n",
    "            Z[0] = Z[0] + Teilsequenz[b][0][1] #Berechnet auftragsweise den Zielfunktionswert für die erste Maschine.  \n",
    "             \n",
    " \n",
    " \n",
    "            for c in range(1,Anzahl_Maschinen): #Berechnet auftragsweise den Zielfunktionswert für die weiteren Maschinen. \n",
    "                if(Z[c] < Z[c-1]): #Prüft ob der vorherige Arbeitsschritt abgeschlossen ist. Wenn es nicht zutrifft, dann wird die if-Bedingung ausgeführt und gemäß der Formel berechnet. \n",
    "                    Z[c] = Z[c-1] \n",
    "                    Z[c] = Z[c-1] + Teilsequenz[b][0][c+1] \n",
    "                else: \n",
    "                    Z[c] = Z[c] + Teilsequenz[b][0][c+1]                         \n",
    "        if (pos == 0): #Bei der ersten Betrachtung des Auftrages wird der Zielfunktionswert mit dazugehöriger Sequenz übernommen. \n",
    "            B_Zielfunktionswert = Z[c] \n",
    "            B_Sequenz = Teilsequenz \n",
    "        if(pos > 0 and Z[c] < B_Zielfunktionswert): #Bei Erhöhung der Anzahl der Aufträge wird aktuellen Zielfunktionswert mit dem besten Zielfunktionswert vergliechen. \n",
    "                                          #Durch diesen Vergleich wählt der Algorithmus die beste Sequenz. \n",
    "            B_Sequenz = Teilsequenz \n",
    "            B_Zielfunktionswert = Z[c] \n",
    "        k = len(Teilsequenz) #k ist die Anzahl der möglichen Positionierungen eines Auftrages. \n",
    "    Sequenz = B_Sequenz         \n",
    " \n",
    " \n",
    "laufzeit = time.time() - startzeit #Berechnet die Laufzeit des Programms. \n",
    " \n",
    "def Lösungsbereinigung(B_Sequenz): #Diese Funktion dient zur besseren Darstellung des Ergebnisses. \n",
    "    for a in range (len(B_Sequenz)): \n",
    "         Lösung.append(B_Sequenz[a][0][0]) \n",
    "    return Lösung \n",
    "Lösung = Lösungsbereinigung(B_Sequenz) \n",
    " \n",
    "print(\"Beste Reihenfolge:\",Lösung,\"Zielfunktionswert:\",B_Zielfunktionswert,\"Laufzeit:\",laufzeit) \n",
    " \n",
    "def Lösung_speichern(B_Sequenz): \n",
    "    for a in range(len(B_Sequenz)): \n",
    "        Gespeicherte_Lösung.append(B_Sequenz[a][0]) \n",
    "    return Gespeicherte_Lösung \n",
    "Gespeicherte_Lösung = Lösung_speichern(B_Sequenz) \n",
    "print(Gespeicherte_Lösung) \n",
    "f.close"
   ]
  },
  {
   "cell_type": "markdown",
   "id": "aef75019",
   "metadata": {
    "papermill": {
     "duration": 0.002524,
     "end_time": "2025-04-04T11:32:41.328416",
     "exception": false,
     "start_time": "2025-04-04T11:32:41.325892",
     "status": "completed"
    },
    "tags": []
   },
   "source": [
    "# Implementierung von LAHC-Metaheuristik "
   ]
  },
  {
   "cell_type": "code",
   "execution_count": 4,
   "id": "8a45de14",
   "metadata": {
    "execution": {
     "iopub.execute_input": "2025-04-04T11:32:41.336035Z",
     "iopub.status.busy": "2025-04-04T11:32:41.335600Z",
     "iopub.status.idle": "2025-04-04T11:32:41.350938Z",
     "shell.execute_reply": "2025-04-04T11:32:41.349703Z"
    },
    "papermill": {
     "duration": 0.021659,
     "end_time": "2025-04-04T11:32:41.352935",
     "exception": false,
     "start_time": "2025-04-04T11:32:41.331276",
     "status": "completed"
    },
    "tags": []
   },
   "outputs": [
    {
     "name": "stdout",
     "output_type": "stream",
     "text": [
      "171 0 0.0029709339141845703\n"
     ]
    }
   ],
   "source": [
    "import random as rnd \n",
    "import time \n",
    "startzeit = time.time() \n",
    "Startlösung = [[3, 12, 5, 15, 20], [10, 6, 17, 16, 20], [8, 10, 14, 10, 11], [5, 12, 13, 10, 15], [4, 16, 8, 18, 18], [7, 19, 14, 17, 20], [2, 17, 20, 16, 14], [6, 16, 5, 14, 6], [1, 14, 15, 15, 7], [9, 18, 20, 6, 5]] \n",
    "  \n",
    "C_xs = 171 \n",
    "beste_Lösung = [] \n",
    "beste_Kosten = C_xs \n",
    "L = [C_xs]*20 #Eine Liste der Länge 20, wo die Lösungen einsortiert werden. \n",
    "i = 0 \n",
    "v = 0 \n",
    "Anzahl_Maschinen = 4 \n",
    "verbesserung = 0 \n",
    " \n",
    "b = 0 \n",
    "k = 0 \n",
    "Z = [] \n",
    " \n",
    "while k <= 100: #Abbruchsbedingung : k-Durchläufe \n",
    "    Z = [0] *Anzahl_Maschinen #Erzeugt eine Liste mit einer Länge der Anzahl der Maschinen mit den Ausgangswerten gleich Null. \n",
    "#In den nächsten Zeilen werden zwei zufällige Jobs miteinander getauscht. \n",
    "    m = rnd.randint(0,len(Startlösung)-1)  \n",
    "    n = rnd.randint(0,len(Startlösung)-1) \n",
    "    if(m == n): \n",
    "        m = rnd.randint(0,len(Startlösung)-1) \n",
    "        n = rnd.randint(0,len(Startlösung)-1) \n",
    "    z = Startlösung.copy() \n",
    "    z[n],z[m] = z[m],z[n]   \n",
    "     \n",
    "    for b in range(len(Startlösung)): #Berechnet analog zur NEHHeuristik die Zielfunktionswerte für alle Maschinen \n",
    "        Z[0] = Z[0] + z[b][1]  \n",
    "             \n",
    "        for c in range(1,Anzahl_Maschinen):  \n",
    "            if(Z[c] < Z[c-1]): \n",
    "                Z[c] = Z[c-1] \n",
    "                Z[c] = Z[c-1] + z[b][c+1] \n",
    "            else: \n",
    "                Z[c] = Z[c] + z[b][c+1]     \n",
    "    v = i % len(L) #Index v für die Vergleichskosten \n",
    "    if(Z[c] <= L[v]): #Falls diese Bedingung stimmt, wird die Liste L mit besseren Zielfunktionswerten überschrieben. \n",
    "        Startlösung = z \n",
    "        L[v] = Z[c] \n",
    "        if(Z[c] < beste_Kosten): #Aktualisiert die global beste Lösung, falls Diese existiert. \n",
    "            beste_Lösung = z \n",
    "            beste_Kosten = Z[c] \n",
    "            verbesserung = verbesserung +1 \n",
    "    k = k + 1 \n",
    "    i = i + 1 \n",
    "laufzeit = time.time() - startzeit \n",
    "print(beste_Kosten,verbesserung,laufzeit)"
   ]
  }
 ],
 "metadata": {
  "kaggle": {
   "accelerator": "none",
   "dataSources": [],
   "dockerImageVersionId": 30918,
   "isGpuEnabled": false,
   "isInternetEnabled": true,
   "language": "python",
   "sourceType": "notebook"
  },
  "kernelspec": {
   "display_name": "Python 3",
   "language": "python",
   "name": "python3"
  },
  "language_info": {
   "codemirror_mode": {
    "name": "ipython",
    "version": 3
   },
   "file_extension": ".py",
   "mimetype": "text/x-python",
   "name": "python",
   "nbconvert_exporter": "python",
   "pygments_lexer": "ipython3",
   "version": "3.10.12"
  },
  "papermill": {
   "default_parameters": {},
   "duration": 4.785189,
   "end_time": "2025-04-04T11:32:41.977457",
   "environment_variables": {},
   "exception": null,
   "input_path": "__notebook__.ipynb",
   "output_path": "__notebook__.ipynb",
   "parameters": {},
   "start_time": "2025-04-04T11:32:37.192268",
   "version": "2.6.0"
  }
 },
 "nbformat": 4,
 "nbformat_minor": 5
}
